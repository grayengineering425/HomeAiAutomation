{
 "cells": [
  {
   "cell_type": "code",
   "execution_count": 4,
   "metadata": {},
   "outputs": [],
   "source": [
    "import tensorflow        as tf\n",
    "import numpy             as np\n",
    "import matplotlib.pyplot as plt\n",
    "\n",
    "from tensorflow.python.framework import ops\n",
    "\n",
    "import os\n",
    "import copy\n",
    "\n",
    "from random import shuffle"
   ]
  },
  {
   "cell_type": "code",
   "execution_count": 44,
   "metadata": {},
   "outputs": [],
   "source": [
    "def skip_connection(input_layer, filters, layer):\n",
    "    x      = tf.layers.conv2d             (input_layer, filters=filters, kernel_size=(3, 3), padding='SAME', name=\"conv1_\" + layer)\n",
    "    output = tf.layers.batch_normalization(x, name=\"batch1_\" + layer)\n",
    "    output = tf.nn.relu                   (output, name=\"relu1_\" + layer)\n",
    "    \n",
    "    output = tf.layers.conv2d             (output     , filters=filters, kernel_size=(3, 3), padding='SAME', name=\"conv2_\" + layer)\n",
    "    output = tf.layers.batch_normalization(output, name=\"batch2_\" + layer)\n",
    "    output = tf.nn.relu                   (output, name=\"relu2_\" + layer)\n",
    "    \n",
    "    skip   = tf.layers.conv2d(x     ,filters=filters , kernel_size=(1, 1), strides=(1,1), padding='SAME', activation=tf.nn.relu, name=\"convskip_\" + layer)\n",
    "    skip   = tf.nn.relu(skip, name=\"reluskip_\" + layer)\n",
    "    \n",
    "    return tf.keras.layers.concatenate([output, skip])"
   ]
  },
  {
   "cell_type": "code",
   "execution_count": 35,
   "metadata": {},
   "outputs": [],
   "source": [
    "def start_model(model_input):\n",
    "    output = tf.layers.conv2d(model_input, filters=64, kernel_size=(7,7), strides=(2,2))\n",
    "    output = tf.layers.batch_normalization(output)\n",
    "    output = tf.nn.relu(output)\n",
    "    output = tf.layers.max_pooling2d(output, pool_size=(3,3) ,strides=(2,2))\n",
    "    \n",
    "    return output"
   ]
  },
  {
   "cell_type": "code",
   "execution_count": 49,
   "metadata": {},
   "outputs": [
    {
     "name": "stdout",
     "output_type": "stream",
     "text": [
      "(1, 1000)\n"
     ]
    }
   ],
   "source": [
    "ops.reset_default_graph()\n",
    "\n",
    "model_input = tf.placeholder(dtype = tf.float32, shape = (None, 224, 224, 3))\n",
    "random_input= np.random.rand(1, 224, 224, 3)\n",
    "\n",
    "output = start_model(model_input)\n",
    "\n",
    "#FIRST SET OF 64 FILTER CONVOLUTIONS\n",
    "output = skip_connection(output, 64,  \"1a\")\n",
    "output = skip_connection(output, 64,  \"1b\")\n",
    "output = skip_connection(output, 64,  \"1c\")\n",
    "output = skip_connection(output, 64,  \"1d\")\n",
    "output = skip_connection(output, 64,  \"1e\")\n",
    "output = skip_connection(output, 64,  \"1f\")\n",
    "\n",
    "#SECOND SET OF 128 FILTER CONVOLUTIONS\n",
    "output = skip_connection(output, 224, \"2a\")\n",
    "output = skip_connection(output, 224, \"2b\")\n",
    "output = skip_connection(output, 224, \"2c\")\n",
    "output = skip_connection(output, 224, \"2d\")\n",
    "output = skip_connection(output, 224, \"2e\")\n",
    "output = skip_connection(output, 224, \"2f\")\n",
    "output = skip_connection(output, 224, \"2g\")\n",
    "output = skip_connection(output, 224, \"2h\")\n",
    "\n",
    "#THIRD SET OF 256 FILTER CONVOLUTIONS\n",
    "output = skip_connection(output, 224, \"3a\")\n",
    "output = skip_connection(output, 224, \"3b\")\n",
    "output = skip_connection(output, 224, \"3c\")\n",
    "output = skip_connection(output, 224, \"3d\")\n",
    "output = skip_connection(output, 224, \"3e\")\n",
    "output = skip_connection(output, 224, \"3f\")\n",
    "output = skip_connection(output, 224, \"3g\")\n",
    "output = skip_connection(output, 224, \"3h\")\n",
    "output = skip_connection(output, 224, \"3i\")\n",
    "output = skip_connection(output, 224, \"3j\")\n",
    "output = skip_connection(output, 224, \"3k\")\n",
    "output = skip_connection(output, 224, \"3l\")\n",
    "\n",
    "#FOURTH SET OF 512 FILTER CONVOLUTIONS\n",
    "output = skip_connection(output, 224, \"4a\")\n",
    "output = skip_connection(output, 224, \"4b\")\n",
    "output = skip_connection(output, 224, \"4c\")\n",
    "output = skip_connection(output, 224, \"4d\")\n",
    "output = skip_connection(output, 224, \"4e\")\n",
    "output = skip_connection(output, 224, \"4f\")\n",
    "\n",
    "#AVERAGE POOL\n",
    "output = tf.layers.average_pooling2d(output, pool_size=(2,2), strides=(2,2), name=\"avg_pool\")\n",
    "\n",
    "#FLATTEN AND PERFORM SOFTMAX\n",
    "output = tf.layers.flatten(output)\n",
    "output = tf.layers.dense(output, 1000)\n",
    "init  = tf.global_variables_initializer()\n",
    "\n",
    "with tf.Session() as sess:\n",
    "    sess.run(init)\n",
    "    \n",
    "    writer = tf.summary.FileWriter('./log_tmp/', sess.graph)\n",
    "    \n",
    "    skip = sess.run([output], feed_dict = { model_input : random_input})\n",
    "    \n",
    "print(skip[0].shape)"
   ]
  },
  {
   "cell_type": "code",
   "execution_count": null,
   "metadata": {},
   "outputs": [],
   "source": [
    "def resnet_34(training_examples, learning_rate=1e-4, num_epochs=100, batch_size=32):\n",
    "    ops.reset_default_graph()    \n",
    "    model_input = tf.placeholder(dtype = tf.float32, shape = (None, 224, 224, 3))"
   ]
  }
 ],
 "metadata": {
  "kernelspec": {
   "display_name": "Python 3",
   "language": "python",
   "name": "python3"
  },
  "language_info": {
   "codemirror_mode": {
    "name": "ipython",
    "version": 3
   },
   "file_extension": ".py",
   "mimetype": "text/x-python",
   "name": "python",
   "nbconvert_exporter": "python",
   "pygments_lexer": "ipython3",
   "version": "3.6.2"
  }
 },
 "nbformat": 4,
 "nbformat_minor": 2
}
